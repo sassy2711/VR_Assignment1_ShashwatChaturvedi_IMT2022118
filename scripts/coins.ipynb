{
 "cells": [
  {
   "cell_type": "code",
   "execution_count": 84,
   "metadata": {},
   "outputs": [],
   "source": [
    "import cv2\n",
    "import numpy as np"
   ]
  },
  {
   "cell_type": "code",
   "execution_count": 85,
   "metadata": {},
   "outputs": [],
   "source": [
    "# Load the image\n",
    "image = cv2.imread(\"images/coins3.jpeg\")\n",
    "\n",
    "# Resize the image to fit on the screen\n",
    "scale_percent = 50  # Adjust this percentage to scale the image\n",
    "width = int(image.shape[1] * scale_percent / 100)\n",
    "height = int(image.shape[0] * scale_percent / 100)\n",
    "image = cv2.resize(image, (width, height))\n",
    "\n",
    "# Grayscale image cuz canny requires grayscale image\n",
    "gray = cv2.cvtColor(image, cv2.COLOR_BGR2GRAY)"
   ]
  },
  {
   "cell_type": "code",
   "execution_count": 86,
   "metadata": {},
   "outputs": [],
   "source": [
    "# Apply GaussianBlur to reduce noise\n",
    "blurred = cv2.GaussianBlur(gray, (5, 5), 0)"
   ]
  },
  {
   "cell_type": "markdown",
   "metadata": {},
   "source": [
    "### A"
   ]
  },
  {
   "cell_type": "code",
   "execution_count": 87,
   "metadata": {},
   "outputs": [],
   "source": [
    "# Edge detection using Canny\n",
    "edges = cv2.Canny(blurred, 50, 150)"
   ]
  },
  {
   "cell_type": "code",
   "execution_count": 88,
   "metadata": {},
   "outputs": [],
   "source": [
    "# Create a kernel for morphological operations\n",
    "kernel = np.ones((3,3), np.uint8)\n",
    "\n",
    "# Use dilation to thicken edges\n",
    "dilated = cv2.dilate(edges, kernel, iterations=1)\n",
    "\n",
    "# Use closing to close small gaps in edges\n",
    "closed = cv2.morphologyEx(dilated, cv2.MORPH_CLOSE, kernel, iterations=2)"
   ]
  },
  {
   "cell_type": "code",
   "execution_count": 89,
   "metadata": {},
   "outputs": [],
   "source": [
    "# Find contours from the improved edges\n",
    "contours, _ = cv2.findContours(closed, cv2.RETR_EXTERNAL, cv2.CHAIN_APPROX_SIMPLE)\n",
    "\n",
    "\n",
    "# Draw contours around detected coins\n",
    "output = image.copy()\n",
    "cv2.drawContours(output, contours, -1, (0, 255, 0), 2)\n",
    "\n",
    "# Display the results\n",
    "cv2.imshow(\"Detected Edges\", closed)\n",
    "cv2.imshow(\"Detected Coins\", output)\n",
    "cv2.waitKey(0)\n",
    "cv2.destroyAllWindows()"
   ]
  },
  {
   "cell_type": "markdown",
   "metadata": {},
   "source": [
    "### B"
   ]
  },
  {
   "cell_type": "code",
   "execution_count": 90,
   "metadata": {},
   "outputs": [],
   "source": [
    "# Create a mask for segmentation\n",
    "mask = np.zeros_like(gray)\n",
    "\n",
    "# Extract and save each detected coin\n",
    "for i, cnt in enumerate(contours):\n",
    "    # Create an empty mask\n",
    "    coin_mask = np.zeros_like(gray)\n",
    "\n",
    "    # Draw the filled contour on the mask\n",
    "    cv2.drawContours(coin_mask, [cnt], -1, 255, thickness=cv2.FILLED)\n",
    "\n",
    "    # Bitwise-AND to extract only the coin\n",
    "    segmented_coin = cv2.bitwise_and(image, image, mask=coin_mask)\n",
    "\n",
    "    # Find bounding box and crop the coin\n",
    "    x, y, w, h = cv2.boundingRect(cnt)\n",
    "    cropped_coin = segmented_coin[y:y+h, x:x+w]\n",
    "\n",
    "    # Save and display each segmented coin\n",
    "    coin_filename = f\"coin_{i+1}.png\"\n",
    "    cv2.imwrite(coin_filename, cropped_coin)\n",
    "    cv2.imshow(f\"Coin {i+1}\", cropped_coin)\n",
    "\n",
    "cv2.waitKey(0)\n",
    "cv2.destroyAllWindows()"
   ]
  },
  {
   "cell_type": "markdown",
   "metadata": {},
   "source": [
    "### C"
   ]
  },
  {
   "cell_type": "code",
   "execution_count": 91,
   "metadata": {},
   "outputs": [
    {
     "name": "stdout",
     "output_type": "stream",
     "text": [
      "Total number of coins detected: 5\n"
     ]
    }
   ],
   "source": [
    "# Count the number of detected coins\n",
    "num_coins = len(contours)\n",
    "\n",
    "# Display the count on the image\n",
    "output_text = f\"Total Coins: {num_coins}\"\n",
    "cv2.putText(output, output_text, (50, 50), cv2.FONT_HERSHEY_SIMPLEX, 1, (0, 0, 255), 2, cv2.LINE_AA)\n",
    "\n",
    "# Show the final result\n",
    "cv2.imshow(\"Final Detected Coins\", output)\n",
    "\n",
    "# Print the total count in the terminal\n",
    "print(\"Total number of coins detected:\", num_coins)\n",
    "\n",
    "cv2.waitKey(0)\n",
    "cv2.destroyAllWindows()\n"
   ]
  }
 ],
 "metadata": {
  "kernelspec": {
   "display_name": "myenv",
   "language": "python",
   "name": "python3"
  },
  "language_info": {
   "codemirror_mode": {
    "name": "ipython",
    "version": 3
   },
   "file_extension": ".py",
   "mimetype": "text/x-python",
   "name": "python",
   "nbconvert_exporter": "python",
   "pygments_lexer": "ipython3",
   "version": "3.10.16"
  }
 },
 "nbformat": 4,
 "nbformat_minor": 2
}
